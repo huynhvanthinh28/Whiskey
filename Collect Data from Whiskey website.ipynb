{
 "cells": [
  {
   "cell_type": "code",
   "execution_count": 1,
   "metadata": {},
   "outputs": [],
   "source": [
    "#import library\n",
    "import pandas as pd\n",
    "from bs4 import BeautifulSoup\n",
    "import pandas as pd\n",
    "import requests"
   ]
  },
  {
   "cell_type": "code",
   "execution_count": 2,
   "metadata": {},
   "outputs": [],
   "source": [
    "#url\n",
    "url = \"https://www.thewhiskyexchange.com\"\n",
    "headers = {'User-Agent': 'Mozilla/5.0 (Windows NT 10.0; Win64; x64) AppleWebKit/537.36 (KHTML, like Gecko) Chrome/89.0.4389.82 Safari/537.36'}"
   ]
  },
  {
   "cell_type": "code",
   "execution_count": 3,
   "metadata": {},
   "outputs": [],
   "source": [
    "page = requests.get('https://www.thewhiskyexchange.com/c/35/japanese-whisky').text\n",
    "soup=BeautifulSoup(page,'html.parser')"
   ]
  },
  {
   "cell_type": "code",
   "execution_count": 4,
   "metadata": {},
   "outputs": [],
   "source": [
    "productlinks = []\n",
    "for x in range(1,6):\n",
    "    page = requests.get('https://www.thewhiskyexchange.com/c/35/japanese-whisky?pg={}&psize=24&sort=pasc'.format(x)).text\n",
    "    soup=BeautifulSoup(page,'html.parser')\n",
    "    productlist = soup.find_all(\"li\",{\"class\":\"product-grid__item\"})\n",
    "\n",
    "\n",
    "    for product in productlist:\n",
    "        link = product.find(\"a\",{\"class\":\"product-card\"}).get('href')                 \n",
    "        productlinks.append(url + link)"
   ]
  },
  {
   "cell_type": "code",
   "execution_count": 5,
   "metadata": {},
   "outputs": [],
   "source": [
    "# Export into dataframe"
   ]
  },
  {
   "cell_type": "code",
   "execution_count": 40,
   "metadata": {},
   "outputs": [],
   "source": [
    "import requests\n",
    "from bs4 import BeautifulSoup\n",
    "import pandas as pd\n",
    "\n",
    "baseurl = \"https://www.thewhiskyexchange.com\"\n",
    "\n",
    "\n",
    "headers = {'User-Agent': 'Mozilla/5.0 (Windows NT 10.0; Win64; x64) AppleWebKit/537.36 (KHTML, like Gecko) Chrome/89.0.4389.82 Safari/537.36'}\n",
    "productlinks = []\n",
    "t={}\n",
    "data=[]\n",
    "c=0\n",
    "for x in range(1,6):\n",
    "    k = requests.get('https://www.thewhiskyexchange.com/c/35/japanese-whisky?pg={}&psize=24&sort=pasc'.format(x)).text\n",
    "    soup=BeautifulSoup(k,'html.parser')\n",
    "    productlist = soup.find_all(\"li\",{\"class\":\"product-grid__item\"})\n",
    "\n",
    "\n",
    "    for product in productlist:\n",
    "        link = product.find(\"a\",{\"class\":\"product-card\"}).get('href')\n",
    "        productlinks.append(baseurl + link)\n",
    "        \n",
    "for link in productlinks:\n",
    "    f = requests.get(link,headers=headers).text\n",
    "    hun=BeautifulSoup(f,'html.parser')\n",
    "\n",
    "    try:\n",
    "        price=hun.find(\"p\",{\"class\":\"product-action__price\"}).text.replace('\\n',\"\")\n",
    "    except:\n",
    "        price = None\n",
    "        \n",
    "    try:\n",
    "        about=hun.find(\"div\",{\"class\":\"product-main__description\"}).text.replace('\\n',\"\")\n",
    "    except:\n",
    "        about=None\n",
    "\n",
    "    try:\n",
    "        rating = hun.find(\"div\",{\"class\":\"review-overview\"}).text.replace('\\n',\"\")\n",
    "    except:\n",
    "        rating=None\n",
    "\n",
    "    try:\n",
    "        name=hun.find(\"h1\",{\"class\":\"product-main__name\"}).text.replace('\\n',\"\")\n",
    "    except:\n",
    "        name=None\n",
    "\n",
    "    whisky = {\"name\":name,\"price\":price,\"rating\":rating,\"about\":about}\n",
    "\n",
    "    data.append(whisky)\n",
    "    c=c+1\n",
    "#     print(\"completed\",c)\n",
    "df = pd.DataFrame(data)"
   ]
  },
  {
   "cell_type": "code",
   "execution_count": 7,
   "metadata": {},
   "outputs": [],
   "source": [
    "#Add image link\n",
    "\n",
    "test = []\n",
    "for x in range(1,6):\n",
    "    k = requests.get('https://www.thewhiskyexchange.com/c/35/japanese-whisky?pg={}&psize=24&sort=pasc'.format(x)).text\n",
    "    soup=BeautifulSoup(k,'html.parser')\n",
    "    \n",
    "    raw_links = soup.find_all(\"img\")\n",
    "    for link in raw_links:\n",
    "        test.append(str(link))"
   ]
  },
  {
   "cell_type": "code",
   "execution_count": 8,
   "metadata": {},
   "outputs": [],
   "source": [
    "# Processing\n",
    "lin = []\n",
    "for t in test:\n",
    "    if 'data-original=\"https://img.thewhiskyexchange.com' in t:\n",
    "        lin.append(t)"
   ]
  },
  {
   "cell_type": "code",
   "execution_count": 9,
   "metadata": {},
   "outputs": [],
   "source": [
    "img_link = []\n",
    "for j in range(len(lin)):\n",
    "    im = lin[j].split('=')[3].replace('height','')[1:-2]\n",
    "    img_link.append(im)"
   ]
  },
  {
   "cell_type": "code",
   "execution_count": 41,
   "metadata": {},
   "outputs": [],
   "source": [
    "df['Link'] = img_link"
   ]
  },
  {
   "cell_type": "code",
   "execution_count": 42,
   "metadata": {},
   "outputs": [],
   "source": [
    "#Save with excel format\n",
    "df.to_excel('Whisky_Data.xlsx')"
   ]
  },
  {
   "cell_type": "code",
   "execution_count": 43,
   "metadata": {},
   "outputs": [],
   "source": [
    "#Read file\n",
    "df = pd.read_excel(r'C:\\Users\\Admin\\Desktop\\Data Analysis\\Cerification Course for data analystic\\Webscraping\\Whisky_Data.xlsx')"
   ]
  },
  {
   "cell_type": "code",
   "execution_count": 44,
   "metadata": {},
   "outputs": [
    {
     "data": {
      "text/html": [
       "<div>\n",
       "<style scoped>\n",
       "    .dataframe tbody tr th:only-of-type {\n",
       "        vertical-align: middle;\n",
       "    }\n",
       "\n",
       "    .dataframe tbody tr th {\n",
       "        vertical-align: top;\n",
       "    }\n",
       "\n",
       "    .dataframe thead th {\n",
       "        text-align: right;\n",
       "    }\n",
       "</style>\n",
       "<table border=\"1\" class=\"dataframe\">\n",
       "  <thead>\n",
       "    <tr style=\"text-align: right;\">\n",
       "      <th></th>\n",
       "      <th>Unnamed: 0</th>\n",
       "      <th>name</th>\n",
       "      <th>price</th>\n",
       "      <th>rating</th>\n",
       "      <th>about</th>\n",
       "      <th>Link</th>\n",
       "    </tr>\n",
       "  </thead>\n",
       "  <tbody>\n",
       "    <tr>\n",
       "      <th>0</th>\n",
       "      <td>0</td>\n",
       "      <td>Akashi Red</td>\n",
       "      <td>£30.45</td>\n",
       "      <td>4(1 Review)</td>\n",
       "      <td>Akashi Red is made at the Eigashima (aka White...</td>\n",
       "      <td>https://img.thewhiskyexchange.com/480/japan_ak...</td>\n",
       "    </tr>\n",
       "    <tr>\n",
       "      <th>1</th>\n",
       "      <td>1</td>\n",
       "      <td>Suntory Torys Classic</td>\n",
       "      <td>£30.45</td>\n",
       "      <td>3.5(2 Reviews)</td>\n",
       "      <td>Suntory Torys Classic is a light and easy-drin...</td>\n",
       "      <td>https://img.thewhiskyexchange.com/480/japan_su...</td>\n",
       "    </tr>\n",
       "    <tr>\n",
       "      <th>2</th>\n",
       "      <td>2</td>\n",
       "      <td>Suntory Toki</td>\n",
       "      <td>£31.95</td>\n",
       "      <td>4(32 Reviews)</td>\n",
       "      <td>Toki is a blended whisky from Suntory's three ...</td>\n",
       "      <td>https://img.thewhiskyexchange.com/480/japan_su...</td>\n",
       "    </tr>\n",
       "  </tbody>\n",
       "</table>\n",
       "</div>"
      ],
      "text/plain": [
       "   Unnamed: 0                   name   price          rating  \\\n",
       "0           0             Akashi Red  £30.45     4(1 Review)   \n",
       "1           1  Suntory Torys Classic  £30.45  3.5(2 Reviews)   \n",
       "2           2           Suntory Toki  £31.95   4(32 Reviews)   \n",
       "\n",
       "                                               about  \\\n",
       "0  Akashi Red is made at the Eigashima (aka White...   \n",
       "1  Suntory Torys Classic is a light and easy-drin...   \n",
       "2  Toki is a blended whisky from Suntory's three ...   \n",
       "\n",
       "                                                Link  \n",
       "0  https://img.thewhiskyexchange.com/480/japan_ak...  \n",
       "1  https://img.thewhiskyexchange.com/480/japan_su...  \n",
       "2  https://img.thewhiskyexchange.com/480/japan_su...  "
      ]
     },
     "execution_count": 44,
     "metadata": {},
     "output_type": "execute_result"
    }
   ],
   "source": [
    "df.head(3)"
   ]
  },
  {
   "cell_type": "code",
   "execution_count": 13,
   "metadata": {},
   "outputs": [],
   "source": [
    "#Data Wrangling\n",
    "\n",
    "#Identify and handle missing values"
   ]
  },
  {
   "cell_type": "code",
   "execution_count": 45,
   "metadata": {},
   "outputs": [
    {
     "data": {
      "text/html": [
       "<div>\n",
       "<style scoped>\n",
       "    .dataframe tbody tr th:only-of-type {\n",
       "        vertical-align: middle;\n",
       "    }\n",
       "\n",
       "    .dataframe tbody tr th {\n",
       "        vertical-align: top;\n",
       "    }\n",
       "\n",
       "    .dataframe thead th {\n",
       "        text-align: right;\n",
       "    }\n",
       "</style>\n",
       "<table border=\"1\" class=\"dataframe\">\n",
       "  <thead>\n",
       "    <tr style=\"text-align: right;\">\n",
       "      <th></th>\n",
       "      <th>Unnamed: 0</th>\n",
       "      <th>name</th>\n",
       "      <th>price</th>\n",
       "      <th>rating</th>\n",
       "      <th>about</th>\n",
       "      <th>Link</th>\n",
       "    </tr>\n",
       "  </thead>\n",
       "  <tbody>\n",
       "    <tr>\n",
       "      <th>0</th>\n",
       "      <td>False</td>\n",
       "      <td>False</td>\n",
       "      <td>False</td>\n",
       "      <td>False</td>\n",
       "      <td>False</td>\n",
       "      <td>False</td>\n",
       "    </tr>\n",
       "    <tr>\n",
       "      <th>1</th>\n",
       "      <td>False</td>\n",
       "      <td>False</td>\n",
       "      <td>False</td>\n",
       "      <td>False</td>\n",
       "      <td>False</td>\n",
       "      <td>False</td>\n",
       "    </tr>\n",
       "    <tr>\n",
       "      <th>2</th>\n",
       "      <td>False</td>\n",
       "      <td>False</td>\n",
       "      <td>False</td>\n",
       "      <td>False</td>\n",
       "      <td>False</td>\n",
       "      <td>False</td>\n",
       "    </tr>\n",
       "    <tr>\n",
       "      <th>3</th>\n",
       "      <td>False</td>\n",
       "      <td>False</td>\n",
       "      <td>False</td>\n",
       "      <td>True</td>\n",
       "      <td>False</td>\n",
       "      <td>False</td>\n",
       "    </tr>\n",
       "    <tr>\n",
       "      <th>4</th>\n",
       "      <td>False</td>\n",
       "      <td>False</td>\n",
       "      <td>False</td>\n",
       "      <td>False</td>\n",
       "      <td>False</td>\n",
       "      <td>False</td>\n",
       "    </tr>\n",
       "  </tbody>\n",
       "</table>\n",
       "</div>"
      ],
      "text/plain": [
       "   Unnamed: 0   name  price  rating  about   Link\n",
       "0       False  False  False   False  False  False\n",
       "1       False  False  False   False  False  False\n",
       "2       False  False  False   False  False  False\n",
       "3       False  False  False    True  False  False\n",
       "4       False  False  False   False  False  False"
      ]
     },
     "execution_count": 45,
     "metadata": {},
     "output_type": "execute_result"
    }
   ],
   "source": [
    "missing_data = df.isnull()\n",
    "missing_data.head(5)"
   ]
  },
  {
   "cell_type": "code",
   "execution_count": 46,
   "metadata": {},
   "outputs": [
    {
     "name": "stdout",
     "output_type": "stream",
     "text": [
      "Unnamed: 0\n",
      "False    104\n",
      "Name: Unnamed: 0, dtype: int64\n",
      "\n",
      "name\n",
      "False    104\n",
      "Name: name, dtype: int64\n",
      "\n",
      "price\n",
      "False    104\n",
      "Name: price, dtype: int64\n",
      "\n",
      "rating\n",
      "False    56\n",
      "True     48\n",
      "Name: rating, dtype: int64\n",
      "\n",
      "about\n",
      "False    96\n",
      "True      8\n",
      "Name: about, dtype: int64\n",
      "\n",
      "Link\n",
      "False    104\n",
      "Name: Link, dtype: int64\n",
      "\n"
     ]
    }
   ],
   "source": [
    "for column in missing_data.columns.values.tolist():\n",
    "    print(column)\n",
    "    print(missing_data[column].value_counts())\n",
    "    print(\"\")"
   ]
  },
  {
   "cell_type": "code",
   "execution_count": 16,
   "metadata": {},
   "outputs": [],
   "source": [
    "#Deal with missing data"
   ]
  },
  {
   "cell_type": "code",
   "execution_count": 47,
   "metadata": {},
   "outputs": [],
   "source": [
    "df.dropna(subset=['rating'], axis=0, inplace=True)\n",
    "df.reset_index(drop=True, inplace=True)"
   ]
  },
  {
   "cell_type": "code",
   "execution_count": 48,
   "metadata": {
    "scrolled": false
   },
   "outputs": [],
   "source": [
    "df.drop('Unnamed: 0', axis=1, inplace=True)"
   ]
  },
  {
   "cell_type": "code",
   "execution_count": 49,
   "metadata": {
    "scrolled": false
   },
   "outputs": [
    {
     "data": {
      "text/html": [
       "<div>\n",
       "<style scoped>\n",
       "    .dataframe tbody tr th:only-of-type {\n",
       "        vertical-align: middle;\n",
       "    }\n",
       "\n",
       "    .dataframe tbody tr th {\n",
       "        vertical-align: top;\n",
       "    }\n",
       "\n",
       "    .dataframe thead th {\n",
       "        text-align: right;\n",
       "    }\n",
       "</style>\n",
       "<table border=\"1\" class=\"dataframe\">\n",
       "  <thead>\n",
       "    <tr style=\"text-align: right;\">\n",
       "      <th></th>\n",
       "      <th>name</th>\n",
       "      <th>price</th>\n",
       "      <th>rating</th>\n",
       "      <th>about</th>\n",
       "      <th>Link</th>\n",
       "    </tr>\n",
       "  </thead>\n",
       "  <tbody>\n",
       "    <tr>\n",
       "      <th>0</th>\n",
       "      <td>Akashi Red</td>\n",
       "      <td>£30.45</td>\n",
       "      <td>4(1 Review)</td>\n",
       "      <td>Akashi Red is made at the Eigashima (aka White...</td>\n",
       "      <td>https://img.thewhiskyexchange.com/480/japan_ak...</td>\n",
       "    </tr>\n",
       "    <tr>\n",
       "      <th>1</th>\n",
       "      <td>Suntory Torys Classic</td>\n",
       "      <td>£30.45</td>\n",
       "      <td>3.5(2 Reviews)</td>\n",
       "      <td>Suntory Torys Classic is a light and easy-drin...</td>\n",
       "      <td>https://img.thewhiskyexchange.com/480/japan_su...</td>\n",
       "    </tr>\n",
       "  </tbody>\n",
       "</table>\n",
       "</div>"
      ],
      "text/plain": [
       "                    name   price          rating  \\\n",
       "0             Akashi Red  £30.45     4(1 Review)   \n",
       "1  Suntory Torys Classic  £30.45  3.5(2 Reviews)   \n",
       "\n",
       "                                               about  \\\n",
       "0  Akashi Red is made at the Eigashima (aka White...   \n",
       "1  Suntory Torys Classic is a light and easy-drin...   \n",
       "\n",
       "                                                Link  \n",
       "0  https://img.thewhiskyexchange.com/480/japan_ak...  \n",
       "1  https://img.thewhiskyexchange.com/480/japan_su...  "
      ]
     },
     "execution_count": 49,
     "metadata": {},
     "output_type": "execute_result"
    }
   ],
   "source": [
    "df.head(2)"
   ]
  },
  {
   "cell_type": "code",
   "execution_count": 50,
   "metadata": {},
   "outputs": [],
   "source": [
    "rating_of_customers = []\n",
    "for i in range(len(df['price'])):\n",
    "    rating_of_customers.append(df['rating'].str.split('(')[i][0])"
   ]
  },
  {
   "cell_type": "code",
   "execution_count": 51,
   "metadata": {},
   "outputs": [],
   "source": [
    "df['rating_of_customers'] = rating_of_customers"
   ]
  },
  {
   "cell_type": "code",
   "execution_count": 52,
   "metadata": {},
   "outputs": [],
   "source": [
    "number_of_review = []\n",
    "for i in range(len(df['price'])):\n",
    "    number_of_review.append(df['rating'].str.split('(')[i][1][:2])"
   ]
  },
  {
   "cell_type": "code",
   "execution_count": 53,
   "metadata": {},
   "outputs": [],
   "source": [
    "df['number_of_review'] = number_of_review"
   ]
  },
  {
   "cell_type": "code",
   "execution_count": 54,
   "metadata": {
    "scrolled": false
   },
   "outputs": [
    {
     "data": {
      "text/html": [
       "<div>\n",
       "<style scoped>\n",
       "    .dataframe tbody tr th:only-of-type {\n",
       "        vertical-align: middle;\n",
       "    }\n",
       "\n",
       "    .dataframe tbody tr th {\n",
       "        vertical-align: top;\n",
       "    }\n",
       "\n",
       "    .dataframe thead th {\n",
       "        text-align: right;\n",
       "    }\n",
       "</style>\n",
       "<table border=\"1\" class=\"dataframe\">\n",
       "  <thead>\n",
       "    <tr style=\"text-align: right;\">\n",
       "      <th></th>\n",
       "      <th>name</th>\n",
       "      <th>price</th>\n",
       "      <th>rating</th>\n",
       "      <th>about</th>\n",
       "      <th>Link</th>\n",
       "      <th>rating_of_customers</th>\n",
       "      <th>number_of_review</th>\n",
       "    </tr>\n",
       "  </thead>\n",
       "  <tbody>\n",
       "    <tr>\n",
       "      <th>0</th>\n",
       "      <td>Akashi Red</td>\n",
       "      <td>£30.45</td>\n",
       "      <td>4(1 Review)</td>\n",
       "      <td>Akashi Red is made at the Eigashima (aka White...</td>\n",
       "      <td>https://img.thewhiskyexchange.com/480/japan_ak...</td>\n",
       "      <td>4</td>\n",
       "      <td>1</td>\n",
       "    </tr>\n",
       "    <tr>\n",
       "      <th>1</th>\n",
       "      <td>Suntory Torys Classic</td>\n",
       "      <td>£30.45</td>\n",
       "      <td>3.5(2 Reviews)</td>\n",
       "      <td>Suntory Torys Classic is a light and easy-drin...</td>\n",
       "      <td>https://img.thewhiskyexchange.com/480/japan_su...</td>\n",
       "      <td>3.5</td>\n",
       "      <td>2</td>\n",
       "    </tr>\n",
       "    <tr>\n",
       "      <th>2</th>\n",
       "      <td>Suntory Toki</td>\n",
       "      <td>£31.95</td>\n",
       "      <td>4(32 Reviews)</td>\n",
       "      <td>Toki is a blended whisky from Suntory's three ...</td>\n",
       "      <td>https://img.thewhiskyexchange.com/480/japan_su...</td>\n",
       "      <td>4</td>\n",
       "      <td>32</td>\n",
       "    </tr>\n",
       "    <tr>\n",
       "      <th>3</th>\n",
       "      <td>Akashi Blended Whisky</td>\n",
       "      <td>£32.95</td>\n",
       "      <td>3.5(19 Reviews)</td>\n",
       "      <td>A lesser-known whisky outside the local Japane...</td>\n",
       "      <td>https://img.thewhiskyexchange.com/480/japan_ak...</td>\n",
       "      <td>3.5</td>\n",
       "      <td>19</td>\n",
       "    </tr>\n",
       "    <tr>\n",
       "      <th>4</th>\n",
       "      <td>Hatozaki Blended Japanese Whisky</td>\n",
       "      <td>£33.95</td>\n",
       "      <td>3(3 Reviews)</td>\n",
       "      <td>Named after the oldest stone lighthouse in Jap...</td>\n",
       "      <td>https://img.thewhiskyexchange.com/480/japan_ha...</td>\n",
       "      <td>3</td>\n",
       "      <td>3</td>\n",
       "    </tr>\n",
       "  </tbody>\n",
       "</table>\n",
       "</div>"
      ],
      "text/plain": [
       "                               name   price           rating  \\\n",
       "0                        Akashi Red  £30.45      4(1 Review)   \n",
       "1             Suntory Torys Classic  £30.45   3.5(2 Reviews)   \n",
       "2                      Suntory Toki  £31.95    4(32 Reviews)   \n",
       "3             Akashi Blended Whisky  £32.95  3.5(19 Reviews)   \n",
       "4  Hatozaki Blended Japanese Whisky  £33.95     3(3 Reviews)   \n",
       "\n",
       "                                               about  \\\n",
       "0  Akashi Red is made at the Eigashima (aka White...   \n",
       "1  Suntory Torys Classic is a light and easy-drin...   \n",
       "2  Toki is a blended whisky from Suntory's three ...   \n",
       "3  A lesser-known whisky outside the local Japane...   \n",
       "4  Named after the oldest stone lighthouse in Jap...   \n",
       "\n",
       "                                                Link rating_of_customers  \\\n",
       "0  https://img.thewhiskyexchange.com/480/japan_ak...                   4   \n",
       "1  https://img.thewhiskyexchange.com/480/japan_su...                 3.5   \n",
       "2  https://img.thewhiskyexchange.com/480/japan_su...                   4   \n",
       "3  https://img.thewhiskyexchange.com/480/japan_ak...                 3.5   \n",
       "4  https://img.thewhiskyexchange.com/480/japan_ha...                   3   \n",
       "\n",
       "  number_of_review  \n",
       "0               1   \n",
       "1               2   \n",
       "2               32  \n",
       "3               19  \n",
       "4               3   "
      ]
     },
     "execution_count": 54,
     "metadata": {},
     "output_type": "execute_result"
    }
   ],
   "source": [
    "df.head()"
   ]
  },
  {
   "cell_type": "code",
   "execution_count": 25,
   "metadata": {},
   "outputs": [],
   "source": [
    "# Correct data format"
   ]
  },
  {
   "cell_type": "code",
   "execution_count": 55,
   "metadata": {},
   "outputs": [
    {
     "data": {
      "text/plain": [
       "name                   object\n",
       "price                  object\n",
       "rating                 object\n",
       "about                  object\n",
       "Link                   object\n",
       "rating_of_customers    object\n",
       "number_of_review       object\n",
       "dtype: object"
      ]
     },
     "execution_count": 55,
     "metadata": {},
     "output_type": "execute_result"
    }
   ],
   "source": [
    "df.dtypes"
   ]
  },
  {
   "cell_type": "code",
   "execution_count": 56,
   "metadata": {},
   "outputs": [],
   "source": [
    "df['rating_of_customers'] = df['rating_of_customers'].astype('float')"
   ]
  },
  {
   "cell_type": "code",
   "execution_count": 57,
   "metadata": {},
   "outputs": [],
   "source": [
    "df['number_of_review'] = df['number_of_review'].astype('int')"
   ]
  },
  {
   "cell_type": "code",
   "execution_count": 58,
   "metadata": {},
   "outputs": [
    {
     "data": {
      "text/plain": [
       "name                    object\n",
       "price                   object\n",
       "rating                  object\n",
       "about                   object\n",
       "Link                    object\n",
       "rating_of_customers    float64\n",
       "number_of_review         int32\n",
       "dtype: object"
      ]
     },
     "execution_count": 58,
     "metadata": {},
     "output_type": "execute_result"
    }
   ],
   "source": [
    "df.dtypes"
   ]
  },
  {
   "cell_type": "code",
   "execution_count": 59,
   "metadata": {},
   "outputs": [
    {
     "data": {
      "text/plain": [
       "0    £30.45\n",
       "1    £30.45\n",
       "2    £31.95\n",
       "3    £32.95\n",
       "4    £33.95\n",
       "Name: price, dtype: object"
      ]
     },
     "execution_count": 59,
     "metadata": {},
     "output_type": "execute_result"
    }
   ],
   "source": [
    "df['price'].head()"
   ]
  },
  {
   "cell_type": "code",
   "execution_count": 31,
   "metadata": {},
   "outputs": [],
   "source": [
    "# Save clean data"
   ]
  },
  {
   "cell_type": "code",
   "execution_count": 60,
   "metadata": {},
   "outputs": [],
   "source": [
    "df.to_excel('Whiskey_clean_data.xlsx')"
   ]
  },
  {
   "cell_type": "code",
   "execution_count": 33,
   "metadata": {},
   "outputs": [],
   "source": [
    "# Data Visualization"
   ]
  },
  {
   "cell_type": "code",
   "execution_count": 61,
   "metadata": {},
   "outputs": [],
   "source": [
    "import matplotlib as mpl\n",
    "import matplotlib.pyplot as plt\n",
    "import numpy as np\n",
    "\n",
    "mpl.style.use('ggplot')"
   ]
  },
  {
   "cell_type": "code",
   "execution_count": 66,
   "metadata": {},
   "outputs": [],
   "source": [
    "price_edit = df['price'].str.replace('£', '')"
   ]
  },
  {
   "cell_type": "code",
   "execution_count": 67,
   "metadata": {},
   "outputs": [],
   "source": [
    "for j in range(49,56):\n",
    "    price_edit[j] = price_edit[j].replace(',','')"
   ]
  },
  {
   "cell_type": "code",
   "execution_count": 69,
   "metadata": {},
   "outputs": [],
   "source": [
    "VND = []\n",
    "for i in range(len(df['price'])):\n",
    "    VND.append(round(float(price_edit[i])*31200/1000000,3))"
   ]
  },
  {
   "cell_type": "code",
   "execution_count": 70,
   "metadata": {},
   "outputs": [],
   "source": [
    "df['VND'] = VND"
   ]
  },
  {
   "cell_type": "code",
   "execution_count": 71,
   "metadata": {},
   "outputs": [],
   "source": [
    "df['VND'] = df['VND'].astype('float')"
   ]
  },
  {
   "cell_type": "code",
   "execution_count": 72,
   "metadata": {},
   "outputs": [],
   "source": [
    "price_edit = price_edit.astype('float')"
   ]
  },
  {
   "cell_type": "code",
   "execution_count": 73,
   "metadata": {},
   "outputs": [
    {
     "data": {
      "image/png": "[encoded data removed]",
      "text/plain": [
       "<Figure size 864x432 with 1 Axes>"
      ]
     },
     "metadata": {},
     "output_type": "display_data"
    }
   ],
   "source": [
    "count, bin_edges = np.histogram(price_edit)\n",
    "price_edit.plot(kind='hist', \n",
    "                figsize=(12,6),\n",
    "                xticks=bin_edges, \n",
    "                bins = 20, \n",
    "               color = 'mediumseagreen')\n",
    "\n",
    "plt.title('Histogram of Whiskey prices')\n",
    "plt.xlabel('Prices (£)')\n",
    "plt.ylabel('Frequency')\n",
    "plt.show()"
   ]
  },
  {
   "cell_type": "code",
   "execution_count": 74,
   "metadata": {},
   "outputs": [
    {
     "data": {
      "image/png": "[encoded data removed]",
      "text/plain": [
       "<Figure size 864x432 with 1 Axes>"
      ]
     },
     "metadata": {},
     "output_type": "display_data"
    }
   ],
   "source": [
    "count, bin_edges = np.histogram(df['VND'])\n",
    "df['VND'].plot(kind='hist', \n",
    "                figsize=(12,6),\n",
    "                xticks=bin_edges, \n",
    "                bins = 20, \n",
    "               color = 'mediumseagreen')\n",
    "\n",
    "plt.title('Histogram of Whiskey prices')\n",
    "plt.xlabel('Prices (VND-Triệu)')\n",
    "plt.ylabel('Frequency')\n",
    "plt.show()"
   ]
  },
  {
   "cell_type": "code",
   "execution_count": 75,
   "metadata": {},
   "outputs": [
    {
     "data": {
      "image/png": "[encoded data removed]",
      "text/plain": [
       "<Figure size 864x432 with 1 Axes>"
      ]
     },
     "metadata": {},
     "output_type": "display_data"
    }
   ],
   "source": [
    "count, bin_edges = np.histogram(df['rating_of_customers'])\n",
    "\n",
    "df['rating_of_customers'].plot(kind='hist', \n",
    "                figsize=(12,6),\n",
    "                xticks=bin_edges, \n",
    "                bins = 20, \n",
    "               color = 'mediumseagreen')\n",
    "\n",
    "plt.title('Histogram of Customer rating')\n",
    "plt.xlabel('Customer rating')\n",
    "plt.ylabel('Frequency')\n",
    "plt.show()"
   ]
  },
  {
   "cell_type": "code",
   "execution_count": 78,
   "metadata": {},
   "outputs": [
    {
     "data": {
      "image/png": "[encoded data removed]",
      "text/plain": [
       "<Figure size 864x432 with 1 Axes>"
      ]
     },
     "metadata": {},
     "output_type": "display_data"
    }
   ],
   "source": [
    "count, bin_edges = np.histogram(df['number_of_review'])\n",
    "\n",
    "df['number_of_review'].plot(kind='hist', \n",
    "                figsize=(12,6),\n",
    "                xticks=bin_edges, \n",
    "                bins = 20, \n",
    "               color = 'mediumseagreen')\n",
    "\n",
    "plt.title('Histogram of Customer review')\n",
    "plt.xlabel('Customer view')\n",
    "plt.ylabel('Frequency')\n",
    "plt.show()"
   ]
  }
 ],
 "metadata": {
  "kernelspec": {
   "display_name": "Python 3",
   "language": "python",
   "name": "python3"
  },
  "language_info": {
   "codemirror_mode": {
    "name": "ipython",
    "version": 3
   },
   "file_extension": ".py",
   "mimetype": "text/x-python",
   "name": "python",
   "nbconvert_exporter": "python",
   "pygments_lexer": "ipython3",
   "version": "3.8.5"
  }
 },
 "nbformat": 4,
 "nbformat_minor": 4
}
